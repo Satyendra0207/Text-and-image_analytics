{
  "nbformat": 4,
  "nbformat_minor": 0,
  "metadata": {
    "colab": {
      "provenance": [],
      "collapsed_sections": [],
      "authorship_tag": "ABX9TyPGUrB5GGLsLpptwz9pFBhi",
      "include_colab_link": true
    },
    "kernelspec": {
      "name": "python3",
      "display_name": "Python 3"
    },
    "language_info": {
      "name": "python"
    }
  },
  "cells": [
    {
      "cell_type": "markdown",
      "metadata": {
        "id": "view-in-github",
        "colab_type": "text"
      },
      "source": [
        "<a href=\"https://colab.research.google.com/github/Satyendra0207/Text-and-image_analytics/blob/main/TextBlob.ipynb\" target=\"_parent\"><img src=\"https://colab.research.google.com/assets/colab-badge.svg\" alt=\"Open In Colab\"/></a>"
      ]
    },
    {
      "cell_type": "markdown",
      "source": [
        "# **TEXTBLOB**"
      ],
      "metadata": {
        "id": "FDHSjq7DoECm"
      }
    },
    {
      "cell_type": "markdown",
      "source": [
        "TextBlob is a Python (2 and 3) library for processing textual data. It provides a simple API for diving into common **natural language processing** (NLP) tasks such as part-of-speech tagging, noun phrase extraction, sentiment analysis, classification, translation, and more."
      ],
      "metadata": {
        "id": "QJMj7frgoAkv"
      }
    },
    {
      "cell_type": "code",
      "execution_count": 3,
      "metadata": {
        "id": "UolVuIhVmXTo"
      },
      "outputs": [],
      "source": [
        "from textblob import TextBlob"
      ]
    },
    {
      "cell_type": "code",
      "source": [
        "from google.colab import drive\n",
        "drive.mount('/content/drive')"
      ],
      "metadata": {
        "colab": {
          "base_uri": "https://localhost:8080/"
        },
        "id": "MEnHjaN-mX5q",
        "outputId": "65543b98-1859-4a0e-82ea-6dd6669932ad"
      },
      "execution_count": 5,
      "outputs": [
        {
          "output_type": "stream",
          "name": "stdout",
          "text": [
            "Mounted at /content/drive\n"
          ]
        }
      ]
    },
    {
      "cell_type": "code",
      "source": [
        "text=TextBlob(\"Article 370 of the Indian constitution gave special status to Jammu and Kashmir, a region located in the northern part of Indian subcontinent and part of the larger region of Kashmir which has been the subject of a dispute between India, Pakistan and China since 1947\")"
      ],
      "metadata": {
        "id": "0SlRxDwNmX8g"
      },
      "execution_count": 6,
      "outputs": []
    },
    {
      "cell_type": "code",
      "source": [
        "type(text)"
      ],
      "metadata": {
        "colab": {
          "base_uri": "https://localhost:8080/"
        },
        "id": "B6hkNQ4VmX_d",
        "outputId": "60c8d2ae-986b-4cb0-b00d-ff1edc763408"
      },
      "execution_count": 11,
      "outputs": [
        {
          "output_type": "execute_result",
          "data": {
            "text/plain": [
              "textblob.blob.TextBlob"
            ]
          },
          "metadata": {},
          "execution_count": 11
        }
      ]
    },
    {
      "cell_type": "markdown",
      "source": [
        "### POS Tagging using **Textblob**"
      ],
      "metadata": {
        "id": "gmnazVnSojDP"
      }
    },
    {
      "cell_type": "markdown",
      "source": [
        "The technique of assigning one of the parts of speech to a given word is known as (PoS) tagging. With POS or Part-of-speech tagging, we can list the part-of-speech tags through the tags property. It’s also known as “point-of-sale” tagging in the long-form"
      ],
      "metadata": {
        "id": "7fJTMMQnpqQM"
      }
    },
    {
      "cell_type": "markdown",
      "source": [
        "\n",
        "\n",
        "1.   Rule-based POS tagging \n",
        "2.   Stochastic POS Tagging\n",
        "3.   Transformation-based tagging\n",
        "\n",
        "\n",
        "\n",
        "\n"
      ],
      "metadata": {
        "id": "3gHOaYuHqmgL"
      }
    },
    {
      "cell_type": "code",
      "source": [
        "import nltk\n",
        "nltk.download('punkt')\n",
        "nltk.download('averaged_perceptron_tagger')\n",
        "nltk.download('brown')\n",
        "nltk.download('wordnet')\n",
        "nltk.download('omw-1.4')"
      ],
      "metadata": {
        "colab": {
          "base_uri": "https://localhost:8080/"
        },
        "id": "CauoxY2xpEOd",
        "outputId": "d5d4b7d3-4c18-4510-bb08-4681d502dafc"
      },
      "execution_count": 31,
      "outputs": [
        {
          "output_type": "stream",
          "name": "stderr",
          "text": [
            "[nltk_data] Downloading package punkt to /root/nltk_data...\n",
            "[nltk_data]   Package punkt is already up-to-date!\n",
            "[nltk_data] Downloading package averaged_perceptron_tagger to\n",
            "[nltk_data]     /root/nltk_data...\n",
            "[nltk_data]   Package averaged_perceptron_tagger is already up-to-\n",
            "[nltk_data]       date!\n",
            "[nltk_data] Downloading package brown to /root/nltk_data...\n",
            "[nltk_data]   Package brown is already up-to-date!\n",
            "[nltk_data] Downloading package wordnet to /root/nltk_data...\n",
            "[nltk_data]   Package wordnet is already up-to-date!\n",
            "[nltk_data] Downloading package omw-1.4 to /root/nltk_data...\n"
          ]
        },
        {
          "output_type": "execute_result",
          "data": {
            "text/plain": [
              "True"
            ]
          },
          "metadata": {},
          "execution_count": 31
        }
      ]
    },
    {
      "cell_type": "code",
      "source": [
        "sentence=text.tags\n",
        "print(sentence)"
      ],
      "metadata": {
        "colab": {
          "base_uri": "https://localhost:8080/"
        },
        "id": "SaOiAEIcmYCV",
        "outputId": "8f529aef-e5bb-4940-c906-d0b49ebde025"
      },
      "execution_count": 19,
      "outputs": [
        {
          "output_type": "stream",
          "name": "stdout",
          "text": [
            "[('Article', 'NN'), ('370', 'CD'), ('of', 'IN'), ('the', 'DT'), ('Indian', 'JJ'), ('constitution', 'NN'), ('gave', 'VBD'), ('special', 'JJ'), ('status', 'NN'), ('to', 'TO'), ('Jammu', 'NNP'), ('and', 'CC'), ('Kashmir', 'NNP'), ('a', 'DT'), ('region', 'NN'), ('located', 'VBN'), ('in', 'IN'), ('the', 'DT'), ('northern', 'JJ'), ('part', 'NN'), ('of', 'IN'), ('Indian', 'JJ'), ('subcontinent', 'NN'), ('and', 'CC'), ('part', 'NN'), ('of', 'IN'), ('the', 'DT'), ('larger', 'JJR'), ('region', 'NN'), ('of', 'IN'), ('Kashmir', 'NNP'), ('which', 'WDT'), ('has', 'VBZ'), ('been', 'VBN'), ('the', 'DT'), ('subject', 'NN'), ('of', 'IN'), ('a', 'DT'), ('dispute', 'NN'), ('between', 'IN'), ('India', 'NNP'), ('Pakistan', 'NNP'), ('and', 'CC'), ('China', 'NNP'), ('since', 'IN'), ('1947', 'CD')]\n"
          ]
        }
      ]
    },
    {
      "cell_type": "markdown",
      "source": [
        "### **Noun Phrases using Textblob**"
      ],
      "metadata": {
        "id": "IorW9HVwrD5D"
      }
    },
    {
      "cell_type": "code",
      "source": [
        "#List of all Nouns in the example sentence\n",
        "text.noun_phrases"
      ],
      "metadata": {
        "colab": {
          "base_uri": "https://localhost:8080/"
        },
        "id": "JFeU0qq7mYE_",
        "outputId": "c6d73652-b138-4111-98af-3f0a22390168"
      },
      "execution_count": 22,
      "outputs": [
        {
          "output_type": "execute_result",
          "data": {
            "text/plain": [
              "WordList(['article', 'indian constitution', 'special status', 'jammu', 'kashmir', 'northern part', 'indian subcontinent', 'kashmir', 'india', 'pakistan', 'china'])"
            ]
          },
          "metadata": {},
          "execution_count": 22
        }
      ]
    },
    {
      "cell_type": "markdown",
      "source": [
        "### **Sentiment Analysis using Textblob**"
      ],
      "metadata": {
        "id": "e5EVHTmArllD"
      }
    },
    {
      "cell_type": "markdown",
      "source": [
        "Sentiment Analysis can assist us in determining the mood and feelings of the general public as well as obtaining useful information about the setting. Sentiment Analysis is the process of assessing data and categorizing it according to the needs.\n",
        "\n",
        "By providing an input sentence, the TextBlob’s sentiment property returns a named tuple with polarity and subjectivity scores. The polarity score ranges from -1.0 to 1.0 and the subjectivity ranges from 0.0 to 1.0 where 0.0 is an objective statement and 1 is a subjective statement."
      ],
      "metadata": {
        "id": "FXgZ-Lk8rrQE"
      }
    },
    {
      "cell_type": "markdown",
      "source": [
        "The polarity and subjectivity of a statement are returned by TextBlob. The range of polarity is [-1,1], with -1 indicating a negative sentiment and 1 indicating a positive sentiment. Negative words are used to change the polarity of a sentence."
      ],
      "metadata": {
        "id": "Cq17XSbHtAYz"
      }
    },
    {
      "cell_type": "code",
      "source": [
        "text.sentiment"
      ],
      "metadata": {
        "colab": {
          "base_uri": "https://localhost:8080/"
        },
        "id": "XD93pSy1mYH-",
        "outputId": "0d9d58ec-7d06-4325-f650-759d2d288118"
      },
      "execution_count": 23,
      "outputs": [
        {
          "output_type": "execute_result",
          "data": {
            "text/plain": [
              "Sentiment(polarity=0.0634920634920635, subjectivity=0.4682539682539682)"
            ]
          },
          "metadata": {},
          "execution_count": 23
        }
      ]
    },
    {
      "cell_type": "markdown",
      "source": [
        "### **Tokenization using Textblob**\n",
        "\n",
        "We can easily break down the sentences into words or sentences. We have words and sentences properties for that."
      ],
      "metadata": {
        "id": "Cs7ODoTatMwS"
      }
    },
    {
      "cell_type": "code",
      "source": [
        "text.words"
      ],
      "metadata": {
        "colab": {
          "base_uri": "https://localhost:8080/"
        },
        "id": "pd7ivpGZmYLA",
        "outputId": "7b213fd2-a62d-4ff3-8bde-dbe804240fcc"
      },
      "execution_count": 24,
      "outputs": [
        {
          "output_type": "execute_result",
          "data": {
            "text/plain": [
              "WordList(['Article', '370', 'of', 'the', 'Indian', 'constitution', 'gave', 'special', 'status', 'to', 'Jammu', 'and', 'Kashmir', 'a', 'region', 'located', 'in', 'the', 'northern', 'part', 'of', 'Indian', 'subcontinent', 'and', 'part', 'of', 'the', 'larger', 'region', 'of', 'Kashmir', 'which', 'has', 'been', 'the', 'subject', 'of', 'a', 'dispute', 'between', 'India', 'Pakistan', 'and', 'China', 'since', '1947'])"
            ]
          },
          "metadata": {},
          "execution_count": 24
        }
      ]
    },
    {
      "cell_type": "code",
      "source": [
        "text.sentences"
      ],
      "metadata": {
        "colab": {
          "base_uri": "https://localhost:8080/"
        },
        "id": "dUkwTwaimYN6",
        "outputId": "faac5bfc-c9d6-4eb4-af3e-f6817744a584"
      },
      "execution_count": 26,
      "outputs": [
        {
          "output_type": "execute_result",
          "data": {
            "text/plain": [
              "[Sentence(\"Article 370 of the Indian constitution gave special status to Jammu and Kashmir, a region located in the northern part of Indian subcontinent and part of the larger region of Kashmir which has been the subject of a dispute between India, Pakistan and China since 1947\")]"
            ]
          },
          "metadata": {},
          "execution_count": 26
        }
      ]
    },
    {
      "cell_type": "markdown",
      "source": [
        "### **Word Inflection using Textblob**\n",
        "\n",
        "We can easily singularize and pluralize the words with the help of “singularize” and “pluralize” properties respectively."
      ],
      "metadata": {
        "id": "0JfMPmu6tjnE"
      }
    },
    {
      "cell_type": "code",
      "source": [
        "text.words[4].pluralize() # the word \"Indian\""
      ],
      "metadata": {
        "colab": {
          "base_uri": "https://localhost:8080/",
          "height": 35
        },
        "id": "3nZaTjVPmYbO",
        "outputId": "34719559-e8a5-49f5-f1bb-96557407a7c6"
      },
      "execution_count": 27,
      "outputs": [
        {
          "output_type": "execute_result",
          "data": {
            "text/plain": [
              "'Indians'"
            ],
            "application/vnd.google.colaboratory.intrinsic+json": {
              "type": "string"
            }
          },
          "metadata": {},
          "execution_count": 27
        }
      ]
    },
    {
      "cell_type": "markdown",
      "source": [
        "### **Lemmatization using Textblob**"
      ],
      "metadata": {
        "id": "W1dQnmfduHw1"
      }
    },
    {
      "cell_type": "code",
      "source": [
        "from textblob import Word\n",
        "w = Word(\"radii\")\n",
        "w.lemmatize()"
      ],
      "metadata": {
        "colab": {
          "base_uri": "https://localhost:8080/",
          "height": 35
        },
        "id": "5tqTiZl4mYhA",
        "outputId": "2a8f72f6-cae3-4116-cd13-c97101b15c63"
      },
      "execution_count": 35,
      "outputs": [
        {
          "output_type": "execute_result",
          "data": {
            "text/plain": [
              "'radius'"
            ],
            "application/vnd.google.colaboratory.intrinsic+json": {
              "type": "string"
            }
          },
          "metadata": {},
          "execution_count": 35
        }
      ]
    },
    {
      "cell_type": "code",
      "source": [
        "w = Word(\"went\")\n",
        "w.lemmatize(\"v\")"
      ],
      "metadata": {
        "colab": {
          "base_uri": "https://localhost:8080/",
          "height": 35
        },
        "id": "c-jARjiemYj3",
        "outputId": "0a9882f6-9ca2-47ee-a42a-7113d11a2ddb"
      },
      "execution_count": 36,
      "outputs": [
        {
          "output_type": "execute_result",
          "data": {
            "text/plain": [
              "'go'"
            ],
            "application/vnd.google.colaboratory.intrinsic+json": {
              "type": "string"
            }
          },
          "metadata": {},
          "execution_count": 36
        }
      ]
    },
    {
      "cell_type": "markdown",
      "source": [
        "### **Definition using Textblob**\n",
        "\n",
        "TextBlob also offers the functionality of defining the given word. The property called “definitions” does the job for it.\n"
      ],
      "metadata": {
        "id": "6HXQQJawxJfu"
      }
    },
    {
      "cell_type": "code",
      "source": [
        "Word(\"blog\").definitions"
      ],
      "metadata": {
        "colab": {
          "base_uri": "https://localhost:8080/"
        },
        "id": "cfs4i2hMxI4c",
        "outputId": "3fec0bef-37e4-4ec8-f04a-06b6d9c46744"
      },
      "execution_count": 37,
      "outputs": [
        {
          "output_type": "execute_result",
          "data": {
            "text/plain": [
              "['a shared on-line journal where people can post diary entries about their personal experiences and hobbies',\n",
              " 'read, write, or edit a shared on-line journal']"
            ]
          },
          "metadata": {},
          "execution_count": 37
        }
      ]
    },
    {
      "cell_type": "code",
      "source": [
        "Word(\"Admire\").definitions"
      ],
      "metadata": {
        "colab": {
          "base_uri": "https://localhost:8080/"
        },
        "id": "lhuJxkbLmYmy",
        "outputId": "cba144d3-2953-4927-b998-94df848f906e"
      },
      "execution_count": 38,
      "outputs": [
        {
          "output_type": "execute_result",
          "data": {
            "text/plain": [
              "['feel admiration for', 'look at with admiration']"
            ]
          },
          "metadata": {},
          "execution_count": 38
        }
      ]
    },
    {
      "cell_type": "code",
      "source": [
        "Word(\"Persuade\").definitions"
      ],
      "metadata": {
        "colab": {
          "base_uri": "https://localhost:8080/"
        },
        "id": "gFpTNy-AmYpx",
        "outputId": "5d54f347-8d5d-4b5c-d952-affb2a2256af"
      },
      "execution_count": 39,
      "outputs": [
        {
          "output_type": "execute_result",
          "data": {
            "text/plain": [
              "['win approval or support for',\n",
              " \"cause somebody to adopt a certain position, belief, or course of action; twist somebody's arm\"]"
            ]
          },
          "metadata": {},
          "execution_count": 39
        }
      ]
    },
    {
      "cell_type": "code",
      "source": [
        "Word(\"synsets\").definitions"
      ],
      "metadata": {
        "colab": {
          "base_uri": "https://localhost:8080/"
        },
        "id": "EeJVL8hLmYso",
        "outputId": "bdbd9322-f386-4784-832b-dd511712ec4d"
      },
      "execution_count": 40,
      "outputs": [
        {
          "output_type": "execute_result",
          "data": {
            "text/plain": [
              "['a set of one or more synonyms']"
            ]
          },
          "metadata": {},
          "execution_count": 40
        }
      ]
    },
    {
      "cell_type": "markdown",
      "source": [
        "Synsets-a set of one or more synonyms"
      ],
      "metadata": {
        "id": "LBucsoOnz9L3"
      }
    },
    {
      "cell_type": "code",
      "source": [
        "word = Word(\"phone\")\n",
        "word.synsets"
      ],
      "metadata": {
        "colab": {
          "base_uri": "https://localhost:8080/"
        },
        "id": "LMdtpHaUmYvR",
        "outputId": "3456e261-add1-4e99-ab48-13da81e05bd0"
      },
      "execution_count": 41,
      "outputs": [
        {
          "output_type": "execute_result",
          "data": {
            "text/plain": [
              "[Synset('telephone.n.01'),\n",
              " Synset('phone.n.02'),\n",
              " Synset('earphone.n.01'),\n",
              " Synset('call.v.03')]"
            ]
          },
          "metadata": {},
          "execution_count": 41
        }
      ]
    },
    {
      "cell_type": "code",
      "source": [
        "word = Word(\"Adorable\")\n",
        "word.synsets"
      ],
      "metadata": {
        "colab": {
          "base_uri": "https://localhost:8080/"
        },
        "id": "gRv3_bRv0HMZ",
        "outputId": "ebc58160-6575-4493-ac33-13ec2b761195"
      },
      "execution_count": 42,
      "outputs": [
        {
          "output_type": "execute_result",
          "data": {
            "text/plain": [
              "[Synset('adorable.s.01')]"
            ]
          },
          "metadata": {},
          "execution_count": 42
        }
      ]
    },
    {
      "cell_type": "code",
      "source": [
        "word = Word(\"best\")\n",
        "print(word.synsets)"
      ],
      "metadata": {
        "colab": {
          "base_uri": "https://localhost:8080/"
        },
        "id": "MjXjvbP600D1",
        "outputId": "d2499bef-cda0-4b64-aa03-0c72ed775866"
      },
      "execution_count": 45,
      "outputs": [
        {
          "output_type": "stream",
          "name": "stdout",
          "text": [
            "[Synset('best.n.01'), Synset('best.n.02'), Synset('best.n.03'), Synset('outdo.v.02'), Synset('best.a.01'), Synset('better.s.03'), Synset('good.a.01'), Synset('full.s.06'), Synset('good.a.03'), Synset('estimable.s.02'), Synset('beneficial.s.01'), Synset('good.s.06'), Synset('good.s.07'), Synset('adept.s.01'), Synset('good.s.09'), Synset('dear.s.02'), Synset('dependable.s.04'), Synset('good.s.12'), Synset('good.s.13'), Synset('effective.s.04'), Synset('good.s.15'), Synset('good.s.16'), Synset('good.s.17'), Synset('good.s.18'), Synset('good.s.19'), Synset('good.s.20'), Synset('good.s.21'), Synset('best.r.01'), Synset('best.r.02'), Synset('better.r.02'), Synset('well.r.01'), Synset('well.r.02'), Synset('well.r.03'), Synset('well.r.04'), Synset('well.r.05'), Synset('well.r.06'), Synset('well.r.07'), Synset('well.r.08'), Synset('well.r.09'), Synset('well.r.10'), Synset('well.r.11'), Synset('well.r.12'), Synset('well.r.13')]\n"
          ]
        }
      ]
    },
    {
      "cell_type": "markdown",
      "source": [
        "### **Spelling Correction using Textblob**"
      ],
      "metadata": {
        "id": "Md2yWz210vRa"
      }
    },
    {
      "cell_type": "code",
      "source": [
        "my_sentence = TextBlob(\"I am not in denger. I am the dyangr.\")\n",
        "my_sentence.correct()"
      ],
      "metadata": {
        "colab": {
          "base_uri": "https://localhost:8080/"
        },
        "id": "b-MRxmY00HPb",
        "outputId": "aa22a70f-b01a-417c-d898-8fb9e1f4d904"
      },
      "execution_count": 46,
      "outputs": [
        {
          "output_type": "execute_result",
          "data": {
            "text/plain": [
              "TextBlob(\"I am not in danger. I am the danger.\")"
            ]
          },
          "metadata": {},
          "execution_count": 46
        }
      ]
    },
    {
      "cell_type": "code",
      "source": [
        "my_sentence = TextBlob(\"I am the manster and you are miy slame.\") #upto limit \n",
        "my_sentence.correct()"
      ],
      "metadata": {
        "colab": {
          "base_uri": "https://localhost:8080/"
        },
        "id": "T67iZDqt0HSv",
        "outputId": "8b7f76c9-718d-4034-9720-9ae990bac285"
      },
      "execution_count": 48,
      "outputs": [
        {
          "output_type": "execute_result",
          "data": {
            "text/plain": [
              "TextBlob(\"I am the master and you are may same.\")"
            ]
          },
          "metadata": {},
          "execution_count": 48
        }
      ]
    },
    {
      "cell_type": "code",
      "source": [
        "#spellcheck() for checking spellings\n",
        "w = Word('neumonia')\n",
        "w.spellcheck() "
      ],
      "metadata": {
        "colab": {
          "base_uri": "https://localhost:8080/"
        },
        "id": "res6-gYo0HfM",
        "outputId": "e1210fc0-9033-4d89-a377-e0b1e4febf9e"
      },
      "execution_count": 49,
      "outputs": [
        {
          "output_type": "execute_result",
          "data": {
            "text/plain": [
              "[('pneumonia', 1.0)]"
            ]
          },
          "metadata": {},
          "execution_count": 49
        }
      ]
    },
    {
      "cell_type": "code",
      "source": [
        "w = Word('sycology')\n",
        "w.spellcheck()"
      ],
      "metadata": {
        "colab": {
          "base_uri": "https://localhost:8080/"
        },
        "id": "6i6jkFce0HiU",
        "outputId": "7d85fe0f-2183-4295-e7b2-3179faea05f2"
      },
      "execution_count": 52,
      "outputs": [
        {
          "output_type": "execute_result",
          "data": {
            "text/plain": [
              "[('psychology', 0.6666666666666666), ('sociology', 0.3333333333333333)]"
            ]
          },
          "metadata": {},
          "execution_count": 52
        }
      ]
    },
    {
      "cell_type": "code",
      "source": [
        "w = Word('nife')\n",
        "w.spellcheck()"
      ],
      "metadata": {
        "colab": {
          "base_uri": "https://localhost:8080/"
        },
        "id": "SLer2HEk0HwN",
        "outputId": "b32bae55-8a4d-4537-82f5-407ea5c250a4"
      },
      "execution_count": 53,
      "outputs": [
        {
          "output_type": "execute_result",
          "data": {
            "text/plain": [
              "[('life', 0.6231369765791341),\n",
              " ('wife', 0.2604684173172463),\n",
              " ('nine', 0.0454222853087296),\n",
              " ('nice', 0.03761533002129169),\n",
              " ('knife', 0.029808374733853796),\n",
              " ('nile', 0.0021291696238466998),\n",
              " ('rife', 0.0014194464158978)]"
            ]
          },
          "metadata": {},
          "execution_count": 53
        }
      ]
    },
    {
      "cell_type": "markdown",
      "source": [
        "### **Word frequencies using Textblob**"
      ],
      "metadata": {
        "id": "LANC15Wu19Qx"
      }
    },
    {
      "cell_type": "code",
      "source": [
        "betty = TextBlob(\"Betty Botter bought some butter. But she said the Butter’s bitter. If I put it in my batter, it will make my batter bitter. But a bit of better butter will make my batter better.\")\n",
        "print(betty.word_counts['butter'])\n",
        "print(betty.words.count('butter', case_sensitive=True))"
      ],
      "metadata": {
        "colab": {
          "base_uri": "https://localhost:8080/"
        },
        "id": "68_unaEp181J",
        "outputId": "072d265c-afb6-44b3-8158-3dbd112355d5"
      },
      "execution_count": 61,
      "outputs": [
        {
          "output_type": "stream",
          "name": "stdout",
          "text": [
            "3\n",
            "2\n"
          ]
        }
      ]
    },
    {
      "cell_type": "code",
      "source": [
        "count=len(betty.words)\n",
        "print(count)"
      ],
      "metadata": {
        "colab": {
          "base_uri": "https://localhost:8080/"
        },
        "id": "nJIVGTPA1_oQ",
        "outputId": "7b0be43e-18e1-45dd-e5e6-5bcf48ff7731"
      },
      "execution_count": 59,
      "outputs": [
        {
          "output_type": "stream",
          "name": "stdout",
          "text": [
            "37\n"
          ]
        }
      ]
    },
    {
      "cell_type": "markdown",
      "source": [
        "### **Parsing using TextBlob**\n",
        "\n",
        "The term “parsing” comes from the Latin word “pars” (which means “part”). It is used to extract exact or dictionary meaning from a text. Syntactic analysis, or syntax analysis, is another name for it. Syntax analysis examines the text for meaning by comparing it to formal grammar rules."
      ],
      "metadata": {
        "id": "0Eh1iiIY3GFu"
      }
    },
    {
      "cell_type": "code",
      "source": [
        "betty.parse()"
      ],
      "metadata": {
        "colab": {
          "base_uri": "https://localhost:8080/",
          "height": 104
        },
        "id": "tXA8RX9H1_s-",
        "outputId": "f7a252e0-3fc0-4d54-838a-e699f0fced1d"
      },
      "execution_count": 63,
      "outputs": [
        {
          "output_type": "execute_result",
          "data": {
            "text/plain": [
              "'Betty/NNP/B-NP/O Botter/NNP/I-NP/O bought/VBD/B-VP/O some/DT/B-NP/O butter/NN/I-NP/O ././O/O\\nBut/CC/O/O she/PRP/B-NP/O said/VBD/B-VP/O the/DT/B-NP/O Butter/NN/I-NP/O ’/NN/I-NP/O s/PRP/I-NP/O bitter/JJ/B-ADJP/O ././O/O\\nIf/IN/B-PP/B-PNP I/PRP/B-NP/I-PNP put/VB/B-VP/O it/PRP/B-NP/O in/IN/B-PP/B-PNP my/PRP$/B-NP/I-PNP batter/NN/I-NP/I-PNP ,/,/O/O it/PRP/B-NP/O will/MD/B-VP/O make/VB/I-VP/O my/PRP$/B-NP/O batter/NN/I-NP/O bitter/JJ/B-ADJP/O ././O/O\\nBut/CC/O/O a/DT/B-NP/O bit/NN/I-NP/O of/IN/B-PP/B-PNP better/JJR/B-NP/I-PNP butter/NN/I-NP/I-PNP will/MD/B-VP/O make/VB/I-VP/O my/PRP$/B-NP/O batter/NN/I-NP/O better/JJR/B-ADJP/O ././O/O'"
            ],
            "application/vnd.google.colaboratory.intrinsic+json": {
              "type": "string"
            }
          },
          "metadata": {},
          "execution_count": 63
        }
      ]
    },
    {
      "cell_type": "markdown",
      "source": [
        "### **Similarities of TextBlob with Python string**"
      ],
      "metadata": {
        "id": "5qh4Pbgy3i28"
      }
    },
    {
      "cell_type": "code",
      "source": [
        "my_sentence = TextBlob(\"Simple is better than complex.\")\n",
        "my_sentence[0:16]\n",
        "print(my_sentence.upper())\n",
        "print(my_sentence.lower())\n",
        "print(my_sentence.find(\"better\"))\n",
        "print(my_sentence.find(\"then\")) #return -1 -not exist\n",
        "print(my_sentence.find(\"strong\")) #return -1 -not exist"
      ],
      "metadata": {
        "colab": {
          "base_uri": "https://localhost:8080/"
        },
        "id": "80jr7Tgd1_v7",
        "outputId": "1441e47a-7430-4776-fcfc-e2585f808317"
      },
      "execution_count": 68,
      "outputs": [
        {
          "output_type": "stream",
          "name": "stdout",
          "text": [
            "SIMPLE IS BETTER THAN COMPLEX.\n",
            "simple is better than complex.\n",
            "10\n",
            "-1\n",
            "-1\n"
          ]
        }
      ]
    },
    {
      "cell_type": "code",
      "source": [
        "#my_sentence = TextBlob(\"Simple is better than complex.\")\n",
        "text[0:36]"
      ],
      "metadata": {
        "colab": {
          "base_uri": "https://localhost:8080/"
        },
        "id": "RrG_plWn1_zI",
        "outputId": "9f731fd5-5a4c-4586-dab8-6e95cb13f54c"
      },
      "execution_count": 65,
      "outputs": [
        {
          "output_type": "execute_result",
          "data": {
            "text/plain": [
              "TextBlob(\"Article 370 of the Indian constituti\")"
            ]
          },
          "metadata": {},
          "execution_count": 65
        }
      ]
    },
    {
      "cell_type": "code",
      "source": [
        "a = TextBlob(\"Black\")\n",
        "b = TextBlob(\"Blue water policy\")\n",
        "print(a + ' and ' + b)\n",
        "\n",
        "print(\"{0} and {1}\".format(a,b))"
      ],
      "metadata": {
        "colab": {
          "base_uri": "https://localhost:8080/"
        },
        "id": "wv_Gry3S1_2S",
        "outputId": "8b287ba7-218b-49ae-e47b-ee79467c44a2"
      },
      "execution_count": 72,
      "outputs": [
        {
          "output_type": "stream",
          "name": "stdout",
          "text": [
            "Black and Blue water policy\n",
            "Black and Blue water policy\n"
          ]
        }
      ]
    },
    {
      "cell_type": "markdown",
      "source": [
        "### **N-gram using TextBlob**\n",
        "\n",
        "An N-gram is simply the sequence of ‘n’ words.\n",
        "n-grams are utilized to create not only unigram (single n-gram) models but also bigram (2-gram) and trigram (3-gram) or multiple models. Web scale n-gram models have been built by researchers for a number of applications including spelling correction, word breaking, and text summarization\n",
        "\n",
        "1. A cat is in the bag - ngram=6\n",
        "2. Say my name -   ngram(n)=3\n",
        "\n",
        "\n",
        "\n"
      ],
      "metadata": {
        "id": "GCAKAJkS5CPw"
      }
    },
    {
      "cell_type": "code",
      "source": [
        "bob = TextBlob(\"How many roads should a man must walk before we can call him a man?\")\n",
        "print(bob.ngrams(n=10))\n",
        "print(bob.ngrams(n=8))\n",
        "print(bob.ngrams(n=7))##wordlist of --7 words\n",
        "print(bob.ngrams(n=5)) #wordlist of --5 words"
      ],
      "metadata": {
        "colab": {
          "base_uri": "https://localhost:8080/"
        },
        "id": "Cso778l51_4d",
        "outputId": "dceb9eb5-5445-4e6f-d9e2-40028eb48255"
      },
      "execution_count": 73,
      "outputs": [
        {
          "output_type": "stream",
          "name": "stdout",
          "text": [
            "[WordList(['How', 'many', 'roads', 'should', 'a', 'man', 'must', 'walk', 'before', 'we']), WordList(['many', 'roads', 'should', 'a', 'man', 'must', 'walk', 'before', 'we', 'can']), WordList(['roads', 'should', 'a', 'man', 'must', 'walk', 'before', 'we', 'can', 'call']), WordList(['should', 'a', 'man', 'must', 'walk', 'before', 'we', 'can', 'call', 'him']), WordList(['a', 'man', 'must', 'walk', 'before', 'we', 'can', 'call', 'him', 'a']), WordList(['man', 'must', 'walk', 'before', 'we', 'can', 'call', 'him', 'a', 'man'])]\n",
            "[WordList(['How', 'many', 'roads', 'should', 'a', 'man', 'must', 'walk']), WordList(['many', 'roads', 'should', 'a', 'man', 'must', 'walk', 'before']), WordList(['roads', 'should', 'a', 'man', 'must', 'walk', 'before', 'we']), WordList(['should', 'a', 'man', 'must', 'walk', 'before', 'we', 'can']), WordList(['a', 'man', 'must', 'walk', 'before', 'we', 'can', 'call']), WordList(['man', 'must', 'walk', 'before', 'we', 'can', 'call', 'him']), WordList(['must', 'walk', 'before', 'we', 'can', 'call', 'him', 'a']), WordList(['walk', 'before', 'we', 'can', 'call', 'him', 'a', 'man'])]\n",
            "[WordList(['How', 'many', 'roads', 'should', 'a', 'man', 'must']), WordList(['many', 'roads', 'should', 'a', 'man', 'must', 'walk']), WordList(['roads', 'should', 'a', 'man', 'must', 'walk', 'before']), WordList(['should', 'a', 'man', 'must', 'walk', 'before', 'we']), WordList(['a', 'man', 'must', 'walk', 'before', 'we', 'can']), WordList(['man', 'must', 'walk', 'before', 'we', 'can', 'call']), WordList(['must', 'walk', 'before', 'we', 'can', 'call', 'him']), WordList(['walk', 'before', 'we', 'can', 'call', 'him', 'a']), WordList(['before', 'we', 'can', 'call', 'him', 'a', 'man'])]\n",
            "[WordList(['How', 'many', 'roads', 'should', 'a']), WordList(['many', 'roads', 'should', 'a', 'man']), WordList(['roads', 'should', 'a', 'man', 'must']), WordList(['should', 'a', 'man', 'must', 'walk']), WordList(['a', 'man', 'must', 'walk', 'before']), WordList(['man', 'must', 'walk', 'before', 'we']), WordList(['must', 'walk', 'before', 'we', 'can']), WordList(['walk', 'before', 'we', 'can', 'call']), WordList(['before', 'we', 'can', 'call', 'him']), WordList(['we', 'can', 'call', 'him', 'a']), WordList(['can', 'call', 'him', 'a', 'man'])]\n"
          ]
        }
      ]
    },
    {
      "cell_type": "code",
      "source": [],
      "metadata": {
        "id": "c4kuUb5P0HzM"
      },
      "execution_count": null,
      "outputs": []
    }
  ]
}